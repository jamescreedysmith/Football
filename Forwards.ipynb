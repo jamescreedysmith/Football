{
 "cells": [
  {
   "cell_type": "code",
   "execution_count": 2,
   "id": "b054001c",
   "metadata": {},
   "outputs": [],
   "source": [
    "import math\n",
    "\n",
    "def poss_adjuster(data, possession):\n",
    "     print((data*2)/(1+ math.exp((-0.1*possession)+5)))"
   ]
  },
  {
   "cell_type": "code",
   "execution_count": 17,
   "id": "8e039fb6",
   "metadata": {},
   "outputs": [
    {
     "name": "stdout",
     "output_type": "stream",
     "text": [
      "8.797534164956613\n"
     ]
    }
   ],
   "source": [
    "(poss_adjuster(9,49.55))"
   ]
  },
  {
   "cell_type": "code",
   "execution_count": 18,
   "id": "43a4bf5c",
   "metadata": {},
   "outputs": [
    {
     "data": {
      "text/plain": [
       "1.0996917706195766"
      ]
     },
     "execution_count": 18,
     "metadata": {},
     "output_type": "execute_result"
    }
   ],
   "source": [
    "8.797534164956613/8"
   ]
  },
  {
   "cell_type": "markdown",
   "id": "3d7d96ea",
   "metadata": {},
   "source": [
    "#  Single player (percentiles as size, per 90 stats as labels)"
   ]
  },
  {
   "cell_type": "code",
   "execution_count": 441,
   "id": "fb5cbddd",
   "metadata": {},
   "outputs": [],
   "source": [
    "from mplsoccer import Radar, FontManager,PyPizza\n",
    "import matplotlib.pyplot as plt"
   ]
  },
  {
   "cell_type": "code",
   "execution_count": 445,
   "id": "6db24bcb",
   "metadata": {},
   "outputs": [],
   "source": [
    "font_normal = FontManager('https://raw.githubusercontent.com/google/fonts/main/apache/roboto/'\n",
    "                          'Roboto%5Bwdth,wght%5D.ttf')\n",
    "font_italic = FontManager('https://raw.githubusercontent.com/google/fonts/main/apache/roboto/'\n",
    "                          'Roboto-Italic%5Bwdth,wght%5D.ttf')\n",
    "font_bold = FontManager('https://raw.githubusercontent.com/google/fonts/main/apache/robotoslab/'\n",
    "                        'RobotoSlab%5Bwght%5D.ttf')"
   ]
  },
  {
   "cell_type": "code",
   "execution_count": 442,
   "id": "8c78d4d2",
   "metadata": {},
   "outputs": [],
   "source": [
    "params = [\n",
    "    \"Non-penalty xG\", \"xA\",\"Shot Creating Actions\",\"Receptions in opposition box\",\"Through balls\",\n",
    "    \"Defending quality\", \"Defending quantity\",\n",
    "    \"Ball retention\",\"Progressive\\nPasses\", \"Progressive\\nCarries\", \"Successful take-on %\",\"Touches in\\nmiddle 3rd\"\n",
    "]"
   ]
  },
  {
   "cell_type": "code",
   "execution_count": 443,
   "id": "ca954308",
   "metadata": {},
   "outputs": [],
   "source": [
    "values = [\n",
    "    84, 97, 95, 81, 97,\n",
    "    77, 46,\n",
    "    97, 93, 80, 77, 77\n",
    "]"
   ]
  },
  {
   "cell_type": "code",
   "execution_count": null,
   "id": "eac1b7fd",
   "metadata": {},
   "outputs": [],
   "source": [
    "# color for the slices and text\n",
    "slice_colors = [\"#1A78CF\"] * 6 + [\"#FFB20D\"] * 5 \n",
    "text_colors = [\"#F2F2F2\"] * 6 + [\"#034694\"] * 5\n",
    "\n",
    "# instantiate PyPizza class\n",
    "baker = PyPizza(\n",
    "    params=params,                  # list of parameters\n",
    "    background_color=\"#E7EEF1\",     # background color\n",
    "    straight_line_color=\"#E7EEF1\",  # color for straight lines\n",
    "    straight_line_lw=1,             # linewidth for straight lines\n",
    "    last_circle_lw=0,               # linewidth of last circle\n",
    "    other_circle_lw=0,              # linewidth for other circles\n",
    "    inner_circle_size=20            # size of inner circle\n",
    ")\n",
    "\n",
    "# plot pizza\n",
    "fig, ax = baker.make_pizza(\n",
    "    values,                          # list of values\n",
    "    figsize=(7.5, 9.5),                # adjust figsize according to your need\n",
    "    color_blank_space=\"same\",        # use same color to fill blank space\n",
    "    slice_colors=slice_colors,       # color for individual slices\n",
    "    param_location = (115),\n",
    "    value_colors=text_colors,        # color for the value-text\n",
    "    value_bck_colors=slice_colors,   # color for the blank spaces\n",
    "    blank_alpha=0.4,                 # alpha for blank-space colors\n",
    "    kwargs_slices=dict(\n",
    "        edgecolor=\"#F2F2F2\", zorder=2, linewidth=1\n",
    "    ),                               # values to be used when plotting slices\n",
    "    kwargs_params=dict(\n",
    "        color=\"#000000\", fontsize=12,\n",
    "        fontproperties=font_normal.prop, va= 'center_baseline'\n",
    "    ),                               # values to be used when adding parameter\n",
    "    kwargs_values=dict(\n",
    "        color=\"#000000\", fontsize=12,\n",
    "        fontproperties=font_normal.prop, zorder=3,\n",
    "        bbox=dict(\n",
    "            edgecolor=\"#000000\", facecolor=\"cornflowerblue\",\n",
    "            boxstyle=\"round,pad=0.2\", lw=1\n",
    "        )\n",
    "    )                                # values to be used when adding parameter-values\n",
    ")\n",
    "\n",
    "# title \n",
    "\n",
    "fig_text(\n",
    "        0.515, 0.975, \"<Declan Rice>\",\n",
    "    size=18,fig = fig,\n",
    "    highlight_textprops=[{\"color\": '#034694'}],\n",
    "    ha=\"center\", fontproperties=font_bold.prop, color=\"#000000\"\n",
    ")\n",
    "\n",
    "fig.text(\n",
    "    0.515, 0.94,\n",
    "    \"2022/2023 Premier League\",\n",
    "    size=14,\n",
    "    ha=\"center\", fontproperties=font_bold.prop, color=\"#034694\"\n",
    ")\n",
    "\n",
    "# add credits\n",
    "CREDIT_1 = \"Created by @cfc_fresh | Data from fbref\"\n",
    "CREDIT_2 = \"Data from Fbref\"\n",
    "CREDIT_3 = \"Compared to midfielders in Big 5 leagues\"\n",
    "CREDIT_4 = \"and European competitions\"\n",
    "\n",
    "fig.text(\n",
    "    0.99, 0.005, f\"{CREDIT_1}\", size=12,\n",
    "    fontproperties=font_bold.prop,color=\"#034694\",\n",
    "    ha=\"right\"\n",
    "),\n",
    "\n",
    "fig.text(\n",
    "    0.00, 0.00, f\"{CREDIT_3}\\n{CREDIT_4}\", size=12,\n",
    "    fontproperties=font_bold.prop,color=\"#034694\",\n",
    "    ha=\"left\"\n",
    ")\n",
    "\n",
    "# add text\n",
    "\n",
    "fig.text(\n",
    "    0.34, 0.925, \"Attacking        Possession       Defending\", size=14,\n",
    "    fontproperties=font_bold.prop, color=\"#000000\")\n",
    "\n",
    "# add rectangles\n",
    "\n",
    "fig.patches.extend([\n",
    "    plt.Rectangle(\n",
    "        (0.31, 0.91), 0.025, 0.021, fill=True, color=\"#1a78cf\",\n",
    "        transform=fig.transFigure, figure=fig\n",
    "    ),\n",
    "    plt.Rectangle(\n",
    "        (0.462, 0.91), 0.025, 0.021, fill=True, color=\"#FFB20D\",\n",
    "        transform=fig.transFigure, figure=fig\n",
    "    ),\n",
    "    plt.Rectangle(\n",
    "        (0.632, 0.91), 0.025, 0.021, fill=True, color=\"#d70232\",\n",
    "        transform=fig.transFigure, figure=fig\n",
    "    ),\n",
    "])"
   ]
  },
  {
   "cell_type": "markdown",
   "id": "f6a5af58",
   "metadata": {},
   "source": [
    "## Comparison - radar (percentile as size, labels as per 90 stats)"
   ]
  },
  {
   "cell_type": "code",
   "execution_count": 447,
   "id": "c17bc092",
   "metadata": {},
   "outputs": [],
   "source": [
    "import matplotlib.pyplot as plt\n",
    "import numpy as np\n",
    "import pandas as pd"
   ]
  },
  {
   "cell_type": "code",
   "execution_count": 448,
   "id": "a172b504",
   "metadata": {},
   "outputs": [],
   "source": [
    "labels = [\"npxG\", \"Non-Penalty Goals\", \"xA\", \"Key Passes\", \"Through Balls\",\n",
    "          \"Progressive Passes\", \"Shot-Creating Actions\", \"Goal-Creating Actions\",\n",
    "          \"Dribbles Completed\", \"Pressure Regains\", \"Touches In Box\"]\n",
    "\n",
    "labels = [*labels, labels[0]]"
   ]
  },
  {
   "cell_type": "code",
   "execution_count": 449,
   "id": "6d17a8bb",
   "metadata": {},
   "outputs": [],
   "source": [
    "values = [0.22, 0.25, 0.30, 2.54, 0.43, 5.60, 4.34, 0.29, 0.69, 5.14, 4.97]\n",
    "values = [*values, values[0]]"
   ]
  }
 ],
 "metadata": {
  "kernelspec": {
   "display_name": "Python 3 (ipykernel)",
   "language": "python",
   "name": "python3"
  },
  "language_info": {
   "codemirror_mode": {
    "name": "ipython",
    "version": 3
   },
   "file_extension": ".py",
   "mimetype": "text/x-python",
   "name": "python",
   "nbconvert_exporter": "python",
   "pygments_lexer": "ipython3",
   "version": "3.8.8"
  }
 },
 "nbformat": 4,
 "nbformat_minor": 5
}
